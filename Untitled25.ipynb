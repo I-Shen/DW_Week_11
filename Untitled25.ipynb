{
  "nbformat": 4,
  "nbformat_minor": 0,
  "metadata": {
    "colab": {
      "name": "Untitled25.ipynb",
      "provenance": [],
      "toc_visible": true,
      "authorship_tag": "ABX9TyPt84aZ+KaRYl6LpPw6Ta+B",
      "include_colab_link": true
    },
    "kernelspec": {
      "name": "python3",
      "display_name": "Python 3"
    },
    "language_info": {
      "name": "python"
    }
  },
  "cells": [
    {
      "cell_type": "markdown",
      "metadata": {
        "id": "view-in-github",
        "colab_type": "text"
      },
      "source": [
        "<a href=\"https://colab.research.google.com/github/I-Shen/DW_Week_11/blob/main/Untitled25.ipynb\" target=\"_parent\"><img src=\"https://colab.research.google.com/assets/colab-badge.svg\" alt=\"Open In Colab\"/></a>"
      ]
    },
    {
      "cell_type": "markdown",
      "metadata": {
        "id": "jiwOW9lECalL"
      },
      "source": [
        "**A. Latihan 1**"
      ]
    },
    {
      "cell_type": "markdown",
      "metadata": {
        "id": "NI90obHYBe9I"
      },
      "source": [
        "1. Silahkan print(8 / 7) dan berikan comment # Ini adalah pembagian, lihat contoh di bawah ini"
      ]
    },
    {
      "cell_type": "code",
      "metadata": {
        "colab": {
          "base_uri": "https://localhost:8080/"
        },
        "id": "Os4VdT3YAXUH",
        "outputId": "e74083ac-851a-412e-c49d-0f8180cbbce5"
      },
      "source": [
        "# Ini adalah perkalian\n",
        "print(4 * 8)"
      ],
      "execution_count": null,
      "outputs": [
        {
          "output_type": "stream",
          "text": [
            "32\n"
          ],
          "name": "stdout"
        }
      ]
    },
    {
      "cell_type": "code",
      "metadata": {
        "colab": {
          "base_uri": "https://localhost:8080/"
        },
        "id": "NZ6ThR2BAJtH",
        "outputId": "1270feca-fc14-4947-c1a2-192080e789ff"
      },
      "source": [
        "# Jawaban ada disini\n",
        "print(8/7)"
      ],
      "execution_count": null,
      "outputs": [
        {
          "output_type": "stream",
          "text": [
            "1.1428571428571428\n"
          ],
          "name": "stdout"
        }
      ]
    },
    {
      "cell_type": "markdown",
      "metadata": {
        "id": "X6wssjsKBlVF"
      },
      "source": [
        "**Python sebagai kalkulatorl**\n",
        "\n",
        "2. Lihat beberapa contoh di bawah ini"
      ]
    },
    {
      "cell_type": "code",
      "metadata": {
        "colab": {
          "base_uri": "https://localhost:8080/"
        },
        "id": "RnJ6FX8BAl1H",
        "outputId": "e347367a-1a85-4469-b4c2-b299c1d681fe"
      },
      "source": [
        "# Penambahan dan pengurangan\n",
        "print(5 + 5)\n",
        "print(5 - 5)\n",
        "\n",
        "# Perkalian dan pembagian\n",
        "print(3 * 5)\n",
        "print(10 / 2)\n",
        "\n",
        "# Perpangkatan\n",
        "print(4 ** 2)\n",
        "\n",
        "# Pembagian Modulo\n",
        "print(18 % 7)"
      ],
      "execution_count": null,
      "outputs": [
        {
          "output_type": "stream",
          "text": [
            "10\n",
            "0\n",
            "15\n",
            "5.0\n",
            "16\n",
            "4\n"
          ],
          "name": "stdout"
        }
      ]
    },
    {
      "cell_type": "markdown",
      "metadata": {
        "id": "Axvc2x-BB0D6"
      },
      "source": [
        "Jika kamu memilik uang seratus ribu rupiah di bank dan bank memberikan bunga 10 persen setiap tahunnya, berapakah uang yang kamu dapat dalam 7 tahun? Gunakan Python menjawabnya"
      ]
    },
    {
      "cell_type": "code",
      "metadata": {
        "colab": {
          "base_uri": "https://localhost:8080/"
        },
        "id": "PJZ161ZEAt7I",
        "outputId": "9b599c34-f0b9-470c-c010-5d14c4141238"
      },
      "source": [
        "# Jawab disini\n",
        "print(((100000*(10/100))*7)+100000)"
      ],
      "execution_count": null,
      "outputs": [
        {
          "output_type": "stream",
          "text": [
            "170000.0\n"
          ],
          "name": "stdout"
        }
      ]
    },
    {
      "cell_type": "markdown",
      "metadata": {
        "id": "HxskC8lOB_PC"
      },
      "source": [
        "3. Buat variabel simpanan dengan nilai 100000, kemudian print variabel simpanan"
      ]
    },
    {
      "cell_type": "code",
      "metadata": {
        "colab": {
          "base_uri": "https://localhost:8080/"
        },
        "id": "690H9XbOBRYY",
        "outputId": "e608bf61-5c4a-4c59-e6cd-6c28ed2b6d5a"
      },
      "source": [
        "# Jawab disini\n",
        "simpanan = 100000\n",
        "print(simpanan)"
      ],
      "execution_count": null,
      "outputs": [
        {
          "output_type": "stream",
          "text": [
            "100000\n"
          ],
          "name": "stdout"
        }
      ]
    },
    {
      "cell_type": "markdown",
      "metadata": {
        "id": "WZ0LQDv2ClYs"
      },
      "source": [
        "4. Buat variable faktor = 1.10,\n",
        "Gunakan variabel simpanan dan faktor untuk menentukan berapa hasil yang didapat dalam 10 tahun dan simpan dalam variabel hasil,\n",
        "print hasil"
      ]
    },
    {
      "cell_type": "code",
      "metadata": {
        "colab": {
          "base_uri": "https://localhost:8080/"
        },
        "id": "4rHAcGFlCOGW",
        "outputId": "b088d27d-88de-4723-9026-09cdf47dfd30"
      },
      "source": [
        "# Jawab disini\n",
        "faktor = 1.10\n",
        "hasil = simpanan * faktor * 10\n",
        "print(hasil)"
      ],
      "execution_count": null,
      "outputs": [
        {
          "output_type": "stream",
          "text": [
            "1100000.0000000002\n"
          ],
          "name": "stdout"
        }
      ]
    },
    {
      "cell_type": "markdown",
      "metadata": {
        "id": "VpbeS-e0ELbn"
      },
      "source": [
        "5. Kalikan simpanan dan faktor dan simpan dalam variabel hasil_1,\n",
        "Apakah tipe data dari hasil 1? Silahkan print tipe datanya,\n",
        "Buatlah variabel desc = \"Sains Data\",\n",
        "Jumlahkan desc dengan desc bagaimana hasilnya? Simpan pada variabel dobel_desc,\n",
        "print dobel_desc"
      ]
    },
    {
      "cell_type": "code",
      "metadata": {
        "colab": {
          "base_uri": "https://localhost:8080/"
        },
        "id": "OgcOAiniEIyC",
        "outputId": "7d913a42-a1bc-42a3-dcff-31539db3b5b3"
      },
      "source": [
        "# Jawab Disini\n",
        "hasil_1 = simpanan * faktor\n",
        "print(type(hasil_1))\n",
        "desc = \"Sains Data\"\n",
        "dobel_desc = desc + desc\n",
        "print(dobel_desc)"
      ],
      "execution_count": null,
      "outputs": [
        {
          "output_type": "stream",
          "text": [
            "<class 'float'>\n",
            "Sains DataSains Data\n"
          ],
          "name": "stdout"
        }
      ]
    },
    {
      "cell_type": "markdown",
      "metadata": {
        "id": "LyBgArakFgfG"
      },
      "source": [
        "**Konversi tipe data / casting**\n",
        "\n",
        "Kamu bisa merubah tipe data seperti berikut"
      ]
    },
    {
      "cell_type": "code",
      "metadata": {
        "colab": {
          "base_uri": "https://localhost:8080/",
          "height": 35
        },
        "id": "xkDUDudzFNO6",
        "outputId": "e6f779eb-a1b1-4895-fe78-91c14d5db59d"
      },
      "source": [
        "a = 5\n",
        "a_baru = str(a)\n",
        "a_baru"
      ],
      "execution_count": null,
      "outputs": [
        {
          "output_type": "execute_result",
          "data": {
            "application/vnd.google.colaboratory.intrinsic+json": {
              "type": "string"
            },
            "text/plain": [
              "'5'"
            ]
          },
          "metadata": {
            "tags": []
          },
          "execution_count": 16
        }
      ]
    },
    {
      "cell_type": "code",
      "metadata": {
        "colab": {
          "base_uri": "https://localhost:8080/"
        },
        "id": "SFNbfMdNFpuz",
        "outputId": "17b3dde4-1e0f-44ba-9137-696549615fc5"
      },
      "source": [
        "type(a_baru)"
      ],
      "execution_count": null,
      "outputs": [
        {
          "output_type": "execute_result",
          "data": {
            "text/plain": [
              "str"
            ]
          },
          "metadata": {
            "tags": []
          },
          "execution_count": 17
        }
      ]
    },
    {
      "cell_type": "code",
      "metadata": {
        "colab": {
          "base_uri": "https://localhost:8080/"
        },
        "id": "xyZHqR-rFrRa",
        "outputId": "10192fd9-ddbb-44c4-b5b9-22f90e90ac61"
      },
      "source": [
        "b = '300'\n",
        "b_baru = int(b)\n",
        "b_baru"
      ],
      "execution_count": null,
      "outputs": [
        {
          "output_type": "execute_result",
          "data": {
            "text/plain": [
              "300"
            ]
          },
          "metadata": {
            "tags": []
          },
          "execution_count": 18
        }
      ]
    },
    {
      "cell_type": "code",
      "metadata": {
        "colab": {
          "base_uri": "https://localhost:8080/"
        },
        "id": "Ei_PdvmYFvde",
        "outputId": "180a5e3b-03f7-4122-c462-464b45b6dd17"
      },
      "source": [
        "type(b_baru)"
      ],
      "execution_count": null,
      "outputs": [
        {
          "output_type": "execute_result",
          "data": {
            "text/plain": [
              "int"
            ]
          },
          "metadata": {
            "tags": []
          },
          "execution_count": 19
        }
      ]
    },
    {
      "cell_type": "markdown",
      "metadata": {
        "id": "cywSJhD_FzmD"
      },
      "source": [
        "6. Lihat error di bawah ini bagaiman kamu menyelesaikannya?"
      ]
    },
    {
      "cell_type": "code",
      "metadata": {
        "colab": {
          "base_uri": "https://localhost:8080/"
        },
        "id": "u9PpiihgF1Tw",
        "outputId": "ac66d1e4-4076-4160-c0a7-ba974e5400d3"
      },
      "source": [
        "# Simpanan dan hasil\n",
        "simpanan_x = 100000\n",
        "hasil_x = 100000 * 1.10 ** 7\n",
        "\n",
        "# Fix the printout\n",
        "#print(\"Uang saya awalnya\" + simpanan_x + \" dan saya sekarang punya \" + hasil_x + \". Kueren cak\")\n",
        "\n",
        "# Fix nya\n",
        "print(\"Uang saya awalnya \" + str(simpanan_x) + \" dan saya sekarang punya \" + str(int(hasil_x)) + \". Kueren cak\")"
      ],
      "execution_count": null,
      "outputs": [
        {
          "output_type": "stream",
          "text": [
            "Uang saya awalnya 100000 dan saya sekarang punya 194871. Kueren cak\n"
          ],
          "name": "stdout"
        }
      ]
    },
    {
      "cell_type": "code",
      "metadata": {
        "colab": {
          "base_uri": "https://localhost:8080/"
        },
        "id": "bRVfCO10G4kx",
        "outputId": "6f74dad1-4a47-4b62-d7f4-1d4bc6cbcf8a"
      },
      "source": [
        "# Selesaikan juga ini\n",
        "pi_string = \"3.1415926\"\n",
        "\n",
        "# Konversi pi_string menjadi float simpan dalam variabel pi_float dan kemudian print\n",
        "# Jawab disini\n",
        "pi_float = float(pi_string)\n",
        "print(pi_float)"
      ],
      "execution_count": null,
      "outputs": [
        {
          "output_type": "stream",
          "text": [
            "3.1415926\n"
          ],
          "name": "stdout"
        }
      ]
    },
    {
      "cell_type": "markdown",
      "metadata": {
        "id": "DKNR7NrAHam5"
      },
      "source": [
        "**2. Latihan 2**"
      ]
    },
    {
      "cell_type": "markdown",
      "metadata": {
        "id": "Rz6WQSLOHx3d"
      },
      "source": [
        "1. Lihat Petunjuk di bawah ini"
      ]
    },
    {
      "cell_type": "code",
      "metadata": {
        "colab": {
          "base_uri": "https://localhost:8080/"
        },
        "id": "ZRclUV9wHW7u",
        "outputId": "21b269bb-c228-418f-975f-d528205b18ee"
      },
      "source": [
        "# Luas ruangan dalam meter persegi\n",
        "hall = 11.25\n",
        "kit = 18.0\n",
        "liv = 20.0\n",
        "bed = 10.75\n",
        "bath = 9.50\n",
        "\n",
        "# Buatlah list dengan nama area berdasarkan variabel diatas dan print area\n",
        "# Jawab disini\n",
        "area = [hall, kit, liv, bed, bath]\n",
        "print(area)"
      ],
      "execution_count": null,
      "outputs": [
        {
          "output_type": "stream",
          "text": [
            "[11.25, 18.0, 20.0, 10.75, 9.5]\n"
          ],
          "name": "stdout"
        }
      ]
    },
    {
      "cell_type": "markdown",
      "metadata": {
        "id": "PTQPZNixIjsi"
      },
      "source": [
        "2. Buatlah list dengan nama variabel area_2 kemudian sisipkan \"Hallway\", \"Kitchen\", \"Living Room\", \"Bed Room\", dan \"Bath Room\" sesuai dengan ukuran masing masing,\n",
        "contoh ['hallway', hall, ..., ..., ...]"
      ]
    },
    {
      "cell_type": "code",
      "metadata": {
        "id": "VIzseK36In2S"
      },
      "source": [
        "# Jawab disini\n",
        "area_2 = ['hallway', hall, 'kitchen', kit, 'living room', liv, 'bed room', bed, 'bath room', bath]"
      ],
      "execution_count": null,
      "outputs": []
    },
    {
      "cell_type": "markdown",
      "metadata": {
        "id": "H3DnJsH4J6om"
      },
      "source": [
        "3. A. [1, 3, 4, 2] B. [[1, 2, 3], [4, 5, 7]] C. [1 + 2, \"a\" * 5, 3]\n",
        "\n",
        "---\n",
        "\n",
        "\n",
        "Manakah yang bisa dikatakan membuat list yang benar?\n",
        "\n",
        "A, B, C\n",
        "\n",
        "B\n",
        "\n",
        "B dan C\n",
        "\n",
        "C"
      ]
    },
    {
      "cell_type": "code",
      "metadata": {
        "id": "5o0LGuLmIZjw"
      },
      "source": [
        "# Jawab disini dengan comment\n",
        "# A, B, C"
      ],
      "execution_count": null,
      "outputs": []
    },
    {
      "cell_type": "markdown",
      "metadata": {
        "id": "ct0YK4b9KeTJ"
      },
      "source": [
        "4. Selesaikan list of list dari rumah di bawah ini, kemudian print rumah serta tipe data dari rumah"
      ]
    },
    {
      "cell_type": "code",
      "metadata": {
        "colab": {
          "base_uri": "https://localhost:8080/"
        },
        "id": "rOtL1i4lKb41",
        "outputId": "a880a7bb-c1cc-432c-ed1e-ac56a8a65b63"
      },
      "source": [
        "# Jawab disini\n",
        "rumah = [['hallway', hall],\n",
        "        ['kitchen', kit],\n",
        "        ['living room', liv],\n",
        "        ['bed room', bed],\n",
        "        ['bath room', bath]\n",
        "        ]\n",
        "print(rumah)\n",
        "print(type(rumah))"
      ],
      "execution_count": null,
      "outputs": [
        {
          "output_type": "stream",
          "text": [
            "[['hallway', 11.25], ['kitchen', 18.0], ['living room', 20.0], ['bed room', 10.75], ['bath room', 9.5]]\n",
            "<class 'list'>\n"
          ],
          "name": "stdout"
        }
      ]
    },
    {
      "cell_type": "markdown",
      "metadata": {
        "id": "nAMJc1YiLWXj"
      },
      "source": [
        "5. Selesaikan permasalahan di bawah ini"
      ]
    },
    {
      "cell_type": "code",
      "metadata": {
        "colab": {
          "base_uri": "https://localhost:8080/"
        },
        "id": "ir8Pz7jCLSVr",
        "outputId": "8172256a-b9bb-47ce-d275-2fea18b9842e"
      },
      "source": [
        "area_3 = [\"hallway\", 11.25, \"kitchen\", 18.0, \"living room\", 20.0, \"bedroom\", 10.75, \"bathroom\", 9.50]\n",
        "\n",
        "# Print elemen kedua dari area_3\n",
        "print(area_3[1])\n",
        "\n",
        "# Print elemen terakhir dari area_3\n",
        "print(area_3[-1])\n",
        "\n",
        "# Print area dari \"living room\"\n",
        "print(area_3[4])"
      ],
      "execution_count": null,
      "outputs": [
        {
          "output_type": "stream",
          "text": [
            "11.25\n",
            "9.5\n",
            "living room\n"
          ],
          "name": "stdout"
        }
      ]
    },
    {
      "cell_type": "markdown",
      "metadata": {
        "id": "eb619fSxMc6g"
      },
      "source": [
        "6. Selesaikan permasalah di bawah ini"
      ]
    },
    {
      "cell_type": "code",
      "metadata": {
        "colab": {
          "base_uri": "https://localhost:8080/"
        },
        "id": "LCSz-rEcMXH5",
        "outputId": "4665903b-c5f3-460b-ead5-ac8ca5bbd615"
      },
      "source": [
        "area_3 = [\"hallway\", 11.25, \"kitchen\", 18.0, \"living room\", 20.0, \"bedroom\", 10.75, \"bathroom\", 9.50]\n",
        "\n",
        "# Jumlahkan area kitchen dan bedroom kedalam variabel area_makan_favorit\n",
        "area_makanan_favorit = area_3[3] + area_3[-3]\n",
        "\n",
        "# Print the variable area_makan_favorit\n",
        "print(area_makanan_favorit)"
      ],
      "execution_count": null,
      "outputs": [
        {
          "output_type": "stream",
          "text": [
            "28.75\n"
          ],
          "name": "stdout"
        }
      ]
    }
  ]
}